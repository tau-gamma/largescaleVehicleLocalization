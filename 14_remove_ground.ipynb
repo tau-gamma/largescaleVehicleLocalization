{
 "cells": [
  {
   "cell_type": "code",
   "execution_count": null,
   "metadata": {},
   "outputs": [],
   "source": [
    "import open3d as o3d\n",
    "import numpy as np\n",
    "import copy\n",
    "from os import listdir\n",
    "import os\n",
    "import pandas as pd\n",
    "import matplotlib.pyplot as plt\n",
    "from datetime import datetime\n",
    "\n",
    "from winsound import Beep"
   ]
  },
  {
   "cell_type": "code",
   "execution_count": null,
   "metadata": {},
   "outputs": [],
   "source": [
    "def draw_point_clouds(point_clouds, black_point_cloud = None):\n",
    "    pc_copy = []\n",
    "    colors = [[1, 0.706, 0], [0, 0.651, 0.929], [0.3, 0.351, 0.529]]\n",
    "    for idx, x in enumerate(point_clouds):\n",
    "        temp = copy.deepcopy(x)\n",
    "        if idx < len(colors):\n",
    "            temp.paint_uniform_color(colors[idx])\n",
    "        else:\n",
    "            temp.paint_uniform_color(np.random.rand(3))\n",
    "        pc_copy.append(temp)\n",
    "    \n",
    "    if black_point_cloud is not None:\n",
    "        temp = copy.deepcopy(black_point_cloud)\n",
    "        temp.paint_uniform_color([0,0,0])\n",
    "        pc_copy.append(temp)\n",
    "   \n",
    "    o3d.visualization.draw_geometries(pc_copy)"
   ]
  },
  {
   "cell_type": "code",
   "execution_count": null,
   "metadata": {},
   "outputs": [],
   "source": [
    "source_folder = \"C:\\\\Users\\\\amoff\\\\Documents\\\\Meine Textdokumente\\\\Masterarbeit\\\\Daten\\\\rotated_and_translated\\\\100000000\\\\transformed_frames\\\\\"\n",
    "\n",
    "target_path = \"C:\\\\Users\\\\amoff\\\\Documents\\\\Meine Textdokumente\\\\Masterarbeit\\\\LiDAR_Punktwolke-RevA-201455_Vermessungsdaten\\\\Cleaned Export\\\\intersection_dirty\\\\intersection_dirty2_xyzi_down_transformed_compressed.pcd\"\n",
    "target = o3d.io.read_point_cloud(target_path)"
   ]
  },
  {
   "cell_type": "code",
   "execution_count": null,
   "metadata": {},
   "outputs": [],
   "source": [
    "pcd_down = target.voxel_down_sample(voxel_size=1)\n",
    "\n",
    "arr = [pcd_down]\n",
    "arr.append(o3d.io.read_point_cloud(source_folder + \"1667908110_100000000_rat_xyzi.pcd\"))\n",
    "arr.append(o3d.io.read_point_cloud(source_folder + \"1667908113_100000000_rat_xyzi.pcd\"))\n",
    "arr.append(o3d.io.read_point_cloud(source_folder + \"1667908118_100000000_rat_xyzi.pcd\"))\n",
    "arr.append(o3d.io.read_point_cloud(source_folder + \"1667908122_100000000_rat_xyzi.pcd\"))\n",
    "\n",
    "draw_point_clouds(arr)"
   ]
  },
  {
   "cell_type": "code",
   "execution_count": null,
   "metadata": {},
   "outputs": [],
   "source": [
    "\n",
    "\n",
    "\n",
    "\n"
   ]
  },
  {
   "cell_type": "code",
   "execution_count": null,
   "metadata": {},
   "outputs": [],
   "source": [
    "\n",
    "\n",
    "# ax.margins(x=0, y=-0.25)"
   ]
  },
  {
   "cell_type": "code",
   "execution_count": null,
   "metadata": {},
   "outputs": [],
   "source": [
    "column = np.asarray(arr[1].points)[:,2]\n",
    "column"
   ]
  },
  {
   "cell_type": "code",
   "execution_count": null,
   "metadata": {},
   "outputs": [],
   "source": [
    "df = pd.DataFrame(column)\n",
    "df.hist(bins=50)\n"
   ]
  },
  {
   "cell_type": "code",
   "execution_count": null,
   "metadata": {},
   "outputs": [],
   "source": [
    "frame = arr[1]\n",
    "column = np.asarray(frame.points)[:,2]\n",
    "filtered_frame = np.asarray(frame.points)[column > 0]"
   ]
  },
  {
   "cell_type": "code",
   "execution_count": null,
   "metadata": {},
   "outputs": [],
   "source": [
    "df = pd.DataFrame(filtered_frame)\n",
    "df.hist(bins=50)"
   ]
  },
  {
   "cell_type": "code",
   "execution_count": null,
   "metadata": {},
   "outputs": [],
   "source": [
    "filtered_frame.shape"
   ]
  },
  {
   "cell_type": "code",
   "execution_count": null,
   "metadata": {},
   "outputs": [],
   "source": [
    "pcd = o3d.geometry.PointCloud()\n",
    "pcd.points = o3d.utility.Vector3dVector(filtered_frame)"
   ]
  },
  {
   "cell_type": "code",
   "execution_count": null,
   "metadata": {},
   "outputs": [],
   "source": [
    "draw_point_clouds([pcd])"
   ]
  },
  {
   "cell_type": "code",
   "execution_count": null,
   "metadata": {},
   "outputs": [],
   "source": [
    "\n",
    "def remove_ground(point_cloud, ground_height=0):\n",
    "    column = np.asarray(point_cloud.points)[:,2]\n",
    "    print(\"Number of points before filtering\", column.shape)\n",
    "    filtered_frame = np.asarray(point_cloud.points)[column > ground_height]\n",
    "    print(\"Number of points after filtering\", filtered_frame.shape)\n",
    "    pcd = o3d.geometry.PointCloud()\n",
    "    pcd.points = o3d.utility.Vector3dVector(filtered_frame)\n",
    "    return pcd"
   ]
  },
  {
   "cell_type": "code",
   "execution_count": null,
   "metadata": {},
   "outputs": [],
   "source": [
    "\n",
    "def crop(point_cloud, dimension = 2, lower_bound = 0, upper_bound = None):\n",
    "    column = np.asarray(point_cloud.points)[:,dimension]\n",
    "    filtered_frame = np.asarray(point_cloud.points)[column > lower_bound ]\n",
    "    if upper_bound is not None:\n",
    "        column = filtered_frame[:,dimension]\n",
    "        filtered_frame = filtered_frame[column < upper_bound]\n",
    "\n",
    "    pcd = o3d.geometry.PointCloud()\n",
    "    pcd.points = o3d.utility.Vector3dVector(filtered_frame)\n",
    "    return pcd"
   ]
  },
  {
   "cell_type": "code",
   "execution_count": null,
   "metadata": {},
   "outputs": [],
   "source": [
    "draw_point_clouds([remove_ground(arr[0]),remove_ground(arr[1]),remove_ground(arr[2])])"
   ]
  },
  {
   "cell_type": "markdown",
   "metadata": {},
   "source": [
    "Remove ground from all frames"
   ]
  },
  {
   "cell_type": "code",
   "execution_count": null,
   "metadata": {},
   "outputs": [],
   "source": [
    "src_folder = \"C:\\\\Users\\\\amoff\\\\Documents\\\\Meine Textdokumente\\\\Masterarbeit\\\\Daten\\\\rotated_and_translated\\\\100000000\\\\transformed_frames\\\\\"\n",
    "target_folder = \"C:\\\\Users\\\\amoff\\\\Documents\\\\Meine Textdokumente\\\\Masterarbeit\\\\Daten\\\\rotated_and_translated\\\\100000000\\\\ground_removed_frames\\\\\"\n",
    "target_suffix = \"_ground_removed.pcd\"\n",
    "filenames = listdir(src_folder)\n",
    "\n",
    "for idx, file in enumerate(filenames):\n",
    "    print(str(idx) + \" / \" + str(len(filenames)) + \" \" + src_folder+file)\n",
    "    point_cloud = o3d.io.read_point_cloud(src_folder+file)\n",
    "    f = file.split(\"_\")\n",
    "    base_name = f[0] + \"_\" + f[1]\n",
    "    \n",
    "    point_cloud = remove_ground(point_cloud, 1)\n",
    "    o3d.io.write_point_cloud(target_folder + base_name + target_suffix, point_cloud, write_ascii = True )"
   ]
  },
  {
   "cell_type": "code",
   "execution_count": null,
   "metadata": {},
   "outputs": [],
   "source": [
    "src_file = \"C:\\\\Users\\\\amoff\\\\Documents\\\\Meine Textdokumente\\\\Masterarbeit\\\\LiDAR_Punktwolke-RevA-201455_Vermessungsdaten\\\\Cleaned Export\\\\intersection_dirty\\\\intersection_dirty2_xyzi_down_transformed_compressed.pcd\"\n",
    "target_file = \"C:\\\\Users\\\\amoff\\\\Documents\\\\Meine Textdokumente\\\\Masterarbeit\\\\LiDAR_Punktwolke-RevA-201455_Vermessungsdaten\\\\Cleaned Export\\\\intersection_dirty\\\\intersection_dirty2_xyzi_down_transformed_compressed_ground_removed.pcd\"\n",
    "point_cloud = o3d.io.read_point_cloud(src_file)\n",
    "\n",
    "point_cloud = remove_ground(point_cloud)\n",
    "o3d.io.write_point_cloud(target_file, point_cloud, write_ascii = True )"
   ]
  },
  {
   "cell_type": "markdown",
   "metadata": {},
   "source": [
    "CROP"
   ]
  },
  {
   "cell_type": "code",
   "execution_count": null,
   "metadata": {},
   "outputs": [],
   "source": [
    "voxel_size = 1\n",
    "target1 = target.voxel_down_sample(voxel_size)\n",
    "draw_point_clouds([target1])"
   ]
  },
  {
   "cell_type": "code",
   "execution_count": null,
   "metadata": {},
   "outputs": [],
   "source": [
    "target2 = remove_ground(target1, 1)\n",
    "draw_point_clouds([target2])"
   ]
  },
  {
   "cell_type": "code",
   "execution_count": null,
   "metadata": {},
   "outputs": [],
   "source": [
    "lx, ux, ly, uy, ground_height = -80, -10, -30, 30, 3\n",
    "\n",
    "# target3 = crop(target1, 0, lx, ux)\n",
    "# target3 = crop(target3, 1, ly, uy)\n",
    "pcd = crop(target1, 2, ground_height)\n",
    "\n",
    "draw_point_clouds([pcd])"
   ]
  },
  {
   "cell_type": "code",
   "execution_count": null,
   "metadata": {},
   "outputs": [],
   "source": [
    "def crop3d(point_cloud):\n",
    "    lx, ux, ly, uy, ground_height = -80, -10, -30, 30, 2\n",
    "    pcd = crop(point_cloud, 0, lx, ux)\n",
    "    pcd = crop(pcd, 1, ly, uy)\n",
    "    return crop(pcd, 2, ground_height)\n",
    "    "
   ]
  },
  {
   "cell_type": "code",
   "execution_count": null,
   "metadata": {},
   "outputs": [],
   "source": [
    "src_folder = \"C:\\\\Users\\\\amoff\\\\Documents\\\\Meine Textdokumente\\\\Masterarbeit\\\\Daten\\\\rotated_and_translated\\\\100000000\\\\transformed_frames\\\\\"\n",
    "target_folder = \"C:\\\\Users\\\\amoff\\\\Documents\\\\Meine Textdokumente\\\\Masterarbeit\\\\Daten\\\\rotated_and_translated\\\\100000000\\\\cropped_frames\\\\\"\n",
    "target_suffix = \"_croped.pcd\"\n",
    "filenames = listdir(src_folder)\n",
    "\n",
    "for idx, file in enumerate(filenames):\n",
    "    print(str(idx) + \" / \" + str(len(filenames)) + \" \" + src_folder+file)\n",
    "    point_cloud = o3d.io.read_point_cloud(src_folder+file)\n",
    "    f = file.split(\"_\")\n",
    "    base_name = f[0] + \"_\" + f[1]\n",
    "    \n",
    "    point_cloud = crop3d(point_cloud)\n",
    "    o3d.io.write_point_cloud(target_folder + base_name + target_suffix, point_cloud, write_ascii = True )"
   ]
  },
  {
   "cell_type": "code",
   "execution_count": null,
   "metadata": {},
   "outputs": [],
   "source": [
    "target_path = \"C:\\\\Users\\\\amoff\\\\Documents\\\\Meine Textdokumente\\\\Masterarbeit\\\\LiDAR_Punktwolke-RevA-201455_Vermessungsdaten\\\\Cleaned Export\\\\intersection_dirty\\\\intersection_dirty2_xyzi_down_transformed_compressed.pcd\"\n",
    "target = o3d.io.read_point_cloud(target_path)\n",
    "point_cloud = crop3d(target)\n",
    "target_path = \"C:\\\\Users\\\\amoff\\\\Documents\\\\Meine Textdokumente\\\\Masterarbeit\\\\LiDAR_Punktwolke-RevA-201455_Vermessungsdaten\\\\Cleaned Export\\\\intersection_dirty\\\\intersection_dirty2_xyzi_down_transformed_compressed_cropped.pcd\"\n",
    "o3d.io.write_point_cloud(target_path, point_cloud, write_ascii = True )"
   ]
  }
 ],
 "metadata": {
  "kernelspec": {
   "display_name": "vehlocalization",
   "language": "python",
   "name": "python3"
  },
  "language_info": {
   "codemirror_mode": {
    "name": "ipython",
    "version": 3
   },
   "file_extension": ".py",
   "mimetype": "text/x-python",
   "name": "python",
   "nbconvert_exporter": "python",
   "pygments_lexer": "ipython3",
   "version": "3.10.10"
  },
  "orig_nbformat": 4
 },
 "nbformat": 4,
 "nbformat_minor": 2
}
