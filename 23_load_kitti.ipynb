{
 "cells": [
  {
   "cell_type": "code",
   "execution_count": null,
   "metadata": {},
   "outputs": [],
   "source": [
    "%load_ext autoreload\n",
    "%autoreload 2\n",
    "\n",
    "import open3d as o3d\n",
    "import numpy as np\n",
    "import copy\n",
    "from os import listdir\n",
    "import os\n",
    "import pandas as pd\n",
    "import matplotlib.pyplot as plt\n",
    "from datetime import datetime\n",
    "import numpy as np\n",
    "from winsound import Beep\n",
    "import time\n",
    "import glob\n",
    "\n",
    "import alexutils as alx\n",
    "\n",
    "\n"
   ]
  },
  {
   "cell_type": "code",
   "execution_count": null,
   "metadata": {},
   "outputs": [],
   "source": [
    "src = r\"C:\\Users\\amoff\\Documents\\Meine Textdokumente\\Masterarbeit\\different_slams\\mulls_results\\5_binary\\result\\pose_b_lo_xxx_id.txt\"\n",
    "def get_transform_matrices_from_kitti(src):\n",
    "    def line_to_transformation_matrix(line):\n",
    "        l = line.replace(\"\\n\", \"\")\n",
    "        l = (l + \" 0 0 0 1\").split(\" \") \n",
    "        return np.reshape(np.array(l, dtype=float), (4,4))\n",
    "\n",
    "    with open(src) as f:\n",
    "        lines = f.readlines()\n",
    "    return [line_to_transformation_matrix(line) for line in lines]\n",
    "\n",
    "arr = get_transform_matrices_from_kitti(src)\n"
   ]
  },
  {
   "cell_type": "code",
   "execution_count": null,
   "metadata": {},
   "outputs": [],
   "source": [
    "mat = np.loadtxt(r\"C:\\Users\\amoff\\Documents\\Meine Textdokumente\\Masterarbeit\\Blender\\110_gt.txt\")\n",
    "mat[0,3] = mat[0,3] - 0.5"
   ]
  },
  {
   "cell_type": "code",
   "execution_count": null,
   "metadata": {},
   "outputs": [],
   "source": [
    "np.matmul(arr[1], mat)"
   ]
  },
  {
   "cell_type": "code",
   "execution_count": null,
   "metadata": {},
   "outputs": [],
   "source": [
    "folder = r\"C:\\Users\\amoff\\Documents\\Meine Textdokumente\\Masterarbeit\\different_slams\\mulls_results\\5_binary\\result\\single_transformations\\\\\"\n",
    "for idx, a in enumerate(arr):\n",
    "    np.save(f\"{folder}{idx}.npy\", a)"
   ]
  },
  {
   "cell_type": "code",
   "execution_count": null,
   "metadata": {},
   "outputs": [],
   "source": [
    "src = r\"C:\\Users\\amoff\\Documents\\Meine Textdokumente\\Masterarbeit\\different_slams\\mulls_results\\5_binary\\result\\pose_b_lo_xxx_id.txt\"\n",
    "pcd_folder = r\"C:\\Users\\amoff\\Documents\\Meine Textdokumente\\Masterarbeit\\different_slams\\MULLS\\demo_data\\pcd\\\\\"\n",
    "pcd_target_folder = r\"C:\\Users\\amoff\\Documents\\Meine Textdokumente\\Masterarbeit\\different_slams\\MULLS\\demo_data\\pcd\\transformed\\\\\"\n",
    "\n",
    "transform_matrices = get_transform_matrices_from_kitti(src)\n",
    "\n",
    "filenames = listdir(pcd_folder)[:100]\n",
    "\n",
    "for idx, file in enumerate(filenames):\n",
    "    print(pcd_folder + file)\n",
    "    point_cloud = o3d.io.read_point_cloud(pcd_folder + file)\n",
    "    point_cloud.transform(transform_matrices[idx])\n",
    "    o3d.io.write_point_cloud(pcd_target_folder + file, point_cloud, write_ascii = False)\n",
    "    print(f\"{idx}\")"
   ]
  },
  {
   "cell_type": "markdown",
   "metadata": {},
   "source": [
    "### Merge all vehicle frames"
   ]
  },
  {
   "cell_type": "code",
   "execution_count": null,
   "metadata": {},
   "outputs": [],
   "source": [
    "\n",
    "src = r\"C:\\Users\\amoff\\Documents\\Meine Textdokumente\\Masterarbeit\\different_slams\\mulls_results\\5_binary\\result\\pose_b_lo_xxx_id.txt\"\n",
    "pcd_folder = r\"C:\\Users\\amoff\\Documents\\Meine Textdokumente\\Masterarbeit\\different_slams\\MULLS\\demo_data\\pcd\\\\\"\n",
    "pcd_target_folder = r\"C:\\Users\\amoff\\Documents\\Meine Textdokumente\\Masterarbeit\\different_slams\\MULLS\\demo_data\\pcd\\transformed\\\\\"\n",
    "\n",
    "transform_matrices = get_transform_matrices_from_kitti(src)\n",
    "print(f\"Number of transform matrices {len(transform_matrices)}\")\n",
    "\n",
    "filenames = [x.split(\"\\\\\")[-1] for x in glob.glob(pcd_folder + \"*.pcd\")]\n",
    "print(f\"Number of pcd files: {len(filenames)}\")\n",
    "pcl = o3d.geometry.PointCloud() #Empty point cloud\n",
    "\n",
    "for idx, file in enumerate(filenames):\n",
    "    point_cloud = o3d.io.read_point_cloud(pcd_folder + file)\n",
    "    if idx == 0:\n",
    "        continue # skip drone data\n",
    "    point_cloud.transform(transform_matrices[idx])\n",
    "    pcl += point_cloud\n",
    "    # print(str(idx))\n",
    "\n",
    "print(f\"Number of points with ground {len(pcl.points)}\")\n",
    "no_ground_pcd = alx.remove_ground(pcl, 0.5)\n",
    "print(f\"Number of points without ground {len(no_ground_pcd.points)}\")\n",
    "no_ground_pcd = no_ground_pcd.voxel_down_sample(voxel_size = 0.1)\n",
    "print(f\"Number of points with downsampling {len(no_ground_pcd.points)}\")\n",
    "alx.draw_point_clouds([no_ground_pcd])\n",
    "o3d.io.write_point_cloud(pcd_target_folder + \"merged_vehicle_frames_no_ground.pcd\", no_ground_pcd, write_ascii = False)"
   ]
  },
  {
   "cell_type": "code",
   "execution_count": null,
   "metadata": {},
   "outputs": [],
   "source": [
    "target = r\"C:\\Users\\amoff\\Documents\\Meine Textdokumente\\Masterarbeit\\different_slams\\MULLS\\demo_data\\pcd\\transformed\\00001.pcd\"\n",
    "source = r\"C:\\Users\\amoff\\Documents\\Meine Textdokumente\\Masterarbeit\\different_slams\\MULLS\\demo_data\\pcd\\transformed\\merged_vehicle_frames_no_ground.pcd\"\n",
    "source = o3d.io.read_point_cloud(source)\n",
    "target = o3d.io.read_point_cloud(target)\n",
    "alx.draw_point_clouds([target, source])\n",
    "\n",
    "eval = alx.compute_icp_p2p(source, target)\n",
    "\n",
    "\n",
    "alx.draw_point_clouds([target, alx.transform(source, eval.transformation)])\n"
   ]
  }
 ],
 "metadata": {
  "kernelspec": {
   "display_name": "vehlocalization",
   "language": "python",
   "name": "python3"
  },
  "language_info": {
   "codemirror_mode": {
    "name": "ipython",
    "version": 3
   },
   "file_extension": ".py",
   "mimetype": "text/x-python",
   "name": "python",
   "nbconvert_exporter": "python",
   "pygments_lexer": "ipython3",
   "version": "3.10.10"
  },
  "orig_nbformat": 4
 },
 "nbformat": 4,
 "nbformat_minor": 2
}
