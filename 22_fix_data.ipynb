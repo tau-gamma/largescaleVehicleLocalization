{
 "cells": [
  {
   "cell_type": "code",
   "execution_count": null,
   "metadata": {},
   "outputs": [],
   "source": [
    "import open3d as o3d\n",
    "import numpy as np\n",
    "import copy\n",
    "from os import listdir\n",
    "import os\n",
    "import pandas as pd\n",
    "import matplotlib.pyplot as plt\n",
    "from datetime import datetime\n",
    "\n",
    "from winsound import Beep\n",
    "import time\n",
    "import glob"
   ]
  },
  {
   "cell_type": "markdown",
   "metadata": {},
   "source": [
    "### Remove NaN rows"
   ]
  },
  {
   "cell_type": "code",
   "execution_count": null,
   "metadata": {},
   "outputs": [],
   "source": [
    "source_folder = r\"C:\\Users\\amoff\\Documents\\Meine Textdokumente\\Masterarbeit\\Data\\Data\\01_scene_01_omar\\01_lidar\\01_vehicle_lidar_robosense\\vehicle_lidar_robosense_driving_direction_east\\s110_first_east\\matched\\\\\"\n",
    "target_folder = r\"C:\\Users\\amoff\\Documents\\Meine Textdokumente\\Masterarbeit\\Daten\\new_try\\pcd_without_nan_renamed\\\\\"\n",
    "\n",
    "\n",
    "def remove_nan_lines_from_pcd(source_folder, target_folder):\n",
    "    filenames = listdir(source_folder)[:]\n",
    "    for idx, file in enumerate(filenames):\n",
    "        with open(source_folder + file) as f:\n",
    "            lines = f.readlines()\n",
    "            new_lines = [x for x in lines if \"nan\" not in x]\n",
    "            num_points = len(new_lines) - 10\n",
    "            new_lines[6] = f\"WIDTH {num_points}\\n\"\n",
    "            new_lines[7] = \"HEIGHT 1\\n\"\n",
    "            new_lines[9] = f\"POINTS {num_points}\\n\"\n",
    "\n",
    "        with open(target_folder + file, 'w') as fp:\n",
    "        # with open(target_folder + str(idx+2).zfill(5)+\".pcd\", 'w') as fp:\n",
    "            fp.write(''.join(new_lines))\n",
    "            print(f\"Wrote tum poses file to: {target_folder + file}\")\n",
    "\n",
    "remove_nan_lines_from_pcd(source_folder, target_folder)"
   ]
  },
  {
   "cell_type": "markdown",
   "metadata": {},
   "source": [
    "### Rewrite pcd files in binary format"
   ]
  },
  {
   "cell_type": "code",
   "execution_count": null,
   "metadata": {},
   "outputs": [],
   "source": [
    "source_folder = r\"C:\\Users\\amoff\\Documents\\Meine Textdokumente\\Masterarbeit\\Daten\\new_try\\pcd_without_nan_renamed\\\\\"\n",
    "target_folder = r\"C:\\Users\\amoff\\Documents\\Meine Textdokumente\\Masterarbeit\\Daten\\new_try\\pcd_without_nan_renamed_binary\\\\\"\n",
    "\n",
    "\n",
    "def write_binary_pcd(source_folder, target_folder):\n",
    "    filenames = listdir(source_folder)[:]\n",
    "    for idx, file in enumerate(filenames):\n",
    "        point_cloud = o3d.io.read_point_cloud(source_folder + file)\n",
    "        o3d.io.write_point_cloud(target_folder + file, point_cloud, write_ascii = False)\n",
    "        print(f\"Wrote tum poses file to: {target_folder + file}\")\n",
    "\n",
    "write_binary_pcd(source_folder, target_folder)"
   ]
  }
 ],
 "metadata": {
  "kernelspec": {
   "display_name": "vehlocalization",
   "language": "python",
   "name": "python3"
  },
  "language_info": {
   "codemirror_mode": {
    "name": "ipython",
    "version": 3
   },
   "file_extension": ".py",
   "mimetype": "text/x-python",
   "name": "python",
   "nbconvert_exporter": "python",
   "pygments_lexer": "ipython3",
   "version": "3.10.10"
  },
  "orig_nbformat": 4
 },
 "nbformat": 4,
 "nbformat_minor": 2
}
