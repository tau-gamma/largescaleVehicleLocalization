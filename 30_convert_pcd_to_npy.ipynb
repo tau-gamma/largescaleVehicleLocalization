{
 "cells": [
  {
   "cell_type": "code",
   "execution_count": 1,
   "metadata": {},
   "outputs": [
    {
     "name": "stdout",
     "output_type": "stream",
     "text": [
      "Jupyter environment detected. Enabling Open3D WebVisualizer.\n",
      "[Open3D INFO] WebRTC GUI backend enabled.\n",
      "[Open3D INFO] WebRTCWindowSystem: HTTP handshake server disabled.\n"
     ]
    }
   ],
   "source": [
    "import open3d as o3d\n",
    "import numpy as np\n",
    "import copy\n",
    "from os import listdir\n",
    "import os\n",
    "import alexutils as alx\n",
    "\n",
    "\n",
    "\n",
    "\n"
   ]
  },
  {
   "cell_type": "code",
   "execution_count": 4,
   "metadata": {},
   "outputs": [],
   "source": [
    "\n",
    "def convert(path, npy_path, voxel_size):\n",
    "    pcd = o3d.io.read_point_cloud(path)\n",
    "    print(pcd)\n",
    "    pcd = pcd.voxel_down_sample(voxel_size)\n",
    "    print(pcd)\n",
    "    # alx.draw_point_clouds([pcd])\n",
    "    np.save(npy_path, np.asarray(pcd.points))\n",
    "    "
   ]
  },
  {
   "cell_type": "code",
   "execution_count": 15,
   "metadata": {},
   "outputs": [
    {
     "name": "stdout",
     "output_type": "stream",
     "text": [
      "PointCloud with 1161652 points.\n",
      "PointCloud with 117019 points.\n"
     ]
    }
   ],
   "source": [
    "voxel = 0.5\n",
    "\n",
    "target = r\"C:\\Users\\amoff\\Documents\\Meine Textdokumente\\Masterarbeit\\different_slams\\MULLS\\demo_data\\pcd\\transformed\\00001.pcd\"\n",
    "target_npy = r\"C:\\Users\\amoff\\Documents\\Meine Textdokumente\\Masterarbeit\\different_slams\\MULLS\\demo_data\\pcd\\transformed\\00001_vox\"+str(voxel)+\".npy\"\n",
    "\n",
    "source = r\"C:\\Users\\amoff\\Documents\\Meine Textdokumente\\Masterarbeit\\different_slams\\MULLS\\demo_data\\pcd\\transformed\\merged_vehicle_frames_no_ground_kiss_icp.pcd\"\n",
    "source_npy = r\"C:\\Users\\amoff\\Documents\\Meine Textdokumente\\Masterarbeit\\different_slams\\MULLS\\demo_data\\pcd\\transformed\\merged_vehicle_frames_no_ground_kiss_icp_vox\"+str(voxel)+\".npy\"\n",
    "\n",
    "source2 = r\"C:\\Users\\amoff\\Documents\\Meine Textdokumente\\Masterarbeit\\different_slams\\MULLS\\demo_data\\pcd\\transformed\\merged_vehicle_frames_no_ground_kiss_icp_registered.pcd\"\n",
    "source_npy2 = r\"C:\\Users\\amoff\\Documents\\Meine Textdokumente\\Masterarbeit\\different_slams\\MULLS\\demo_data\\pcd\\transformed\\merged_vehicle_frames_no_ground_kiss_icp_registered_vox\"+str(voxel)+\".npy\"\n",
    "\n",
    "\n",
    "# convert(target, target_npy, voxel)\n",
    "# convert(source, source_npy, voxel)\n",
    "convert(source2, source_npy2, voxel)\n"
   ]
  }
 ],
 "metadata": {
  "kernelspec": {
   "display_name": "vehlocalization",
   "language": "python",
   "name": "python3"
  },
  "language_info": {
   "codemirror_mode": {
    "name": "ipython",
    "version": 3
   },
   "file_extension": ".py",
   "mimetype": "text/x-python",
   "name": "python",
   "nbconvert_exporter": "python",
   "pygments_lexer": "ipython3",
   "version": "3.10.10"
  }
 },
 "nbformat": 4,
 "nbformat_minor": 2
}
