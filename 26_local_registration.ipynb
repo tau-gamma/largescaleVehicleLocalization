{
 "cells": [
  {
   "cell_type": "code",
   "execution_count": null,
   "metadata": {},
   "outputs": [],
   "source": [
    "import open3d as o3d\n",
    "import numpy as np\n",
    "import copy\n",
    "from os import listdir\n",
    "import os\n",
    "import pandas as pd\n",
    "import matplotlib.pyplot as plt\n",
    "from datetime import datetime\n",
    "\n",
    "from winsound import Beep\n",
    "\n",
    "import alexutils as alx"
   ]
  },
  {
   "cell_type": "code",
   "execution_count": null,
   "metadata": {},
   "outputs": [],
   "source": [
    "target = r\"C:\\Users\\amoff\\Documents\\Meine Textdokumente\\Masterarbeit\\different_slams\\MULLS\\demo_data\\pcd\\transformed\\00001.pcd\"\n",
    "source = r\"C:\\Users\\amoff\\Documents\\Meine Textdokumente\\Masterarbeit\\different_slams\\MULLS\\demo_data\\pcd\\transformed\\merged_vehicle_frames_no_ground.pcd\"\n",
    "source = o3d.io.read_point_cloud(source)\n",
    "target = o3d.io.read_point_cloud(target)\n",
    "alx.draw_point_clouds([target, source])\n",
    "\n",
    "eval = alx.compute_icp_p2p(source, target)\n",
    "\n",
    "\n",
    "alx.draw_point_clouds([target, alx.transform(source, eval.transformation)])"
   ]
  }
 ],
 "metadata": {
  "kernelspec": {
   "display_name": "vehlocalization",
   "language": "python",
   "name": "python3"
  },
  "language_info": {
   "codemirror_mode": {
    "name": "ipython",
    "version": 3
   },
   "file_extension": ".py",
   "mimetype": "text/x-python",
   "name": "python",
   "nbconvert_exporter": "python",
   "pygments_lexer": "ipython3",
   "version": "3.10.10"
  },
  "orig_nbformat": 4
 },
 "nbformat": 4,
 "nbformat_minor": 2
}
