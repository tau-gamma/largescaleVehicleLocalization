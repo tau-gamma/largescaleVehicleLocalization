{
 "cells": [
  {
   "cell_type": "code",
   "execution_count": null,
   "metadata": {},
   "outputs": [],
   "source": [
    "import open3d as o3d\n",
    "import numpy as np\n",
    "import copy\n",
    "from os import listdir\n",
    "import os"
   ]
  },
  {
   "cell_type": "code",
   "execution_count": null,
   "metadata": {},
   "outputs": [],
   "source": [
    "def draw_point_clouds(point_clouds):\n",
    "    pc_copy = []\n",
    "    for x in point_clouds:\n",
    "        temp = copy.deepcopy(x)\n",
    "        temp.paint_uniform_color(np.random.rand(3))\n",
    "        pc_copy.append(temp)\n",
    "   \n",
    "    o3d.visualization.draw_geometries(pc_copy)\n",
    "    "
   ]
  },
  {
   "cell_type": "code",
   "execution_count": null,
   "metadata": {},
   "outputs": [],
   "source": [
    "target_folder = \"C:\\\\Users\\\\amoff\\\\Documents\\\\Meine Textdokumente\\\\Masterarbeit\\\\Daten\\\\rotated_and_translated\\\\100000000\\\\transformed_frames\\\\\"\n",
    "\n",
    "arr = []\n",
    "arr.append(o3d.io.read_point_cloud(target_folder + \"1667908110_100000000_rat_xyzi.pcd\"))\n",
    "arr.append(o3d.io.read_point_cloud(target_folder + \"1667908113_100000000_rat_xyzi.pcd\"))\n",
    "arr.append(o3d.io.read_point_cloud(target_folder + \"1667908118_100000000_rat_xyzi.pcd\"))\n",
    "arr.append(o3d.io.read_point_cloud(target_folder + \"1667908122_100000000_rat_xyzi.pcd\"))\n",
    "\n",
    "\n",
    "\n",
    "\n",
    "draw_point_clouds(arr)"
   ]
  }
 ],
 "metadata": {
  "kernelspec": {
   "display_name": "vehlocalization",
   "language": "python",
   "name": "python3"
  },
  "language_info": {
   "codemirror_mode": {
    "name": "ipython",
    "version": 3
   },
   "file_extension": ".py",
   "mimetype": "text/x-python",
   "name": "python",
   "nbconvert_exporter": "python",
   "pygments_lexer": "ipython3",
   "version": "3.10.10"
  },
  "orig_nbformat": 4
 },
 "nbformat": 4,
 "nbformat_minor": 2
}
