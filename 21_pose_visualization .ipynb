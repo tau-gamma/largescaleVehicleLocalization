{
 "cells": [
  {
   "cell_type": "code",
   "execution_count": null,
   "metadata": {},
   "outputs": [],
   "source": [
    "import open3d as o3d\n",
    "import numpy as np\n",
    "import copy\n",
    "from os import listdir\n",
    "import os\n",
    "import pandas as pd\n",
    "import matplotlib.pyplot as plt\n",
    "from datetime import datetime\n",
    "\n",
    "from winsound import Beep\n",
    "import time\n",
    "import glob"
   ]
  },
  {
   "cell_type": "code",
   "execution_count": null,
   "metadata": {},
   "outputs": [],
   "source": [
    "def draw_point_clouds(point_clouds, black_point_cloud = None):\n",
    "    pc_copy = []\n",
    "    colors = [[1, 0.706, 0], [0, 0.651, 0.929], [0.3, 0.351, 0.529]]\n",
    "    for idx, x in enumerate(point_clouds):\n",
    "        temp = copy.deepcopy(x)\n",
    "        if idx < len(colors):\n",
    "            temp.paint_uniform_color(colors[idx])\n",
    "        else:\n",
    "            temp.paint_uniform_color(np.random.rand(3))\n",
    "        pc_copy.append(temp)\n",
    "    \n",
    "    if black_point_cloud is not None:\n",
    "        temp = copy.deepcopy(black_point_cloud)\n",
    "        temp.paint_uniform_color([0,0,0])\n",
    "        pc_copy.append(temp)\n",
    "   \n",
    "    o3d.visualization.draw_geometries(pc_copy)"
   ]
  },
  {
   "cell_type": "code",
   "execution_count": null,
   "metadata": {},
   "outputs": [],
   "source": [
    "frames_to_interpolate = r\"C:\\Users\\amoff\\Documents\\Meine Textdokumente\\Masterarbeit\\Daten\\converted\\pcd_compressed\\\\\"\n",
    "frames_to_interpolate = \"C:\\\\Users\\\\amoff\\\\Documents\\\\Meine Textdokumente\\\\Masterarbeit\\\\Daten\\\\rotated_and_translated\\\\100000000\\\\cropped_frames\\\\\"\n",
    "frames_to_interpolate = r\"C:\\Users\\amoff\\Documents\\Meine Textdokumente\\Masterarbeit\\Daten\\rotated_and_translated\\\\\"\n",
    "frames_to_interpolate = r\"C:\\Users\\amoff\\Documents\\Meine Textdokumente\\Masterarbeit\\Data\\Data\\01_scene_01_omar\\01_lidar\\01_vehicle_lidar_robosense\\vehicle_lidar_robosense_driving_direction_east\\s110_first_east\\matched\\\\\"\n",
    "frames_to_interpolate = r\"C:\\Users\\amoff\\Documents\\Meine Textdokumente\\Masterarbeit\\Daten\\new_try\\pcd_without_nan\\\\\"\n",
    "filenames_to_interpolate = sorted(glob.glob(frames_to_interpolate + \"166*.pcd\"))\n",
    "interpolated_poses_path = r\"C:\\Users\\amoff\\Documents\\Meine Textdokumente\\Masterarbeit\\Daten\\rotated_and_translated\\100000000\\interpolation\\interpolated_poses_tum.txt\"\n",
    "\n",
    "target_path = r\"C:\\Users\\amoff\\Documents\\Meine Textdokumente\\Masterarbeit\\Daten\\converted\\pcd\\0_0_intersection_dirty2_xyzi_down_transformed_compressed_ground_removed.pcd\"\n",
    "target = o3d.io.read_point_cloud(target_path)\n",
    "\n",
    "frames = []\n",
    "for file in filenames_to_interpolate:\n",
    "    frames.append(o3d.io.read_point_cloud(file))\n",
    "with open(interpolated_poses_path) as f:\n",
    "    lines = f.read().splitlines()"
   ]
  },
  {
   "cell_type": "code",
   "execution_count": null,
   "metadata": {},
   "outputs": [],
   "source": [
    "draw_point_clouds([frames[10]])"
   ]
  },
  {
   "cell_type": "code",
   "execution_count": null,
   "metadata": {},
   "outputs": [],
   "source": [
    "for frame, pose in zip(frames, lines):\n",
    "    t, x, y, z, qx, qy, qz, qw = [float(i) for i in pose.split(\" \")]\n",
    "    frame_copy = copy.deepcopy(frame).translate((x, y, z))\n",
    "    R = frame_copy.get_rotation_matrix_from_quaternion((qx, qy, qz, qw))\n",
    "    frame_copy.rotate(R)\n",
    "    draw_point_clouds([target, frame_copy])\n",
    "    break"
   ]
  },
  {
   "cell_type": "code",
   "execution_count": null,
   "metadata": {},
   "outputs": [],
   "source": [
    "for x, pose in zip(frames, lines):\n",
    "    print(len(pose))\n",
    "    print((pose))\n",
    "    break"
   ]
  },
  {
   "cell_type": "code",
   "execution_count": null,
   "metadata": {},
   "outputs": [],
   "source": [
    "source = copy.deepcopy(frames[1])\n",
    "source.translate([5,5,0])\n",
    "\n",
    "\n",
    "\n",
    "vis = o3d.visualization.Visualizer()\n",
    "vis.create_window()\n",
    "\n",
    "# target.transform(flip_transform)\n",
    "vis = o3d.visualization.Visualizer()\n",
    "vis.create_window()\n",
    "vis.add_geometry(source)\n",
    "vis.add_geometry(target)\n",
    "threshold = 0.05\n",
    "icp_iteration = 100\n",
    "\n",
    "for i in range(icp_iteration):\n",
    "    reg_p2l = o3d.pipelines.registration.registration_icp(\n",
    "        source, target, threshold, np.identity(4),\n",
    "        o3d.pipelines.registration.TransformationEstimationPointToPlane(),\n",
    "        o3d.pipelines.registration.ICPConvergenceCriteria(max_iteration=1))\n",
    "    source.transform(reg_p2l.transformation)\n",
    "    vis.update_geometry(source)\n",
    "    vis.poll_events()\n",
    "    vis.update_renderer()\n",
    "    time.sleep(1)    # Pause 5.5 seconds\n",
    "vis.destroy_window()\n",
    "o3d.utility.set_verbosity_level(o3d.utility.VerbosityLevel.Info)"
   ]
  }
 ],
 "metadata": {
  "kernelspec": {
   "display_name": "vehlocalization",
   "language": "python",
   "name": "python3"
  },
  "language_info": {
   "codemirror_mode": {
    "name": "ipython",
    "version": 3
   },
   "file_extension": ".py",
   "mimetype": "text/x-python",
   "name": "python",
   "nbconvert_exporter": "python",
   "pygments_lexer": "ipython3",
   "version": "3.10.10"
  },
  "orig_nbformat": 4
 },
 "nbformat": 4,
 "nbformat_minor": 2
}
