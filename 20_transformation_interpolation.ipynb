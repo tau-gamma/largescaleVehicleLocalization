{
 "cells": [
  {
   "cell_type": "code",
   "execution_count": null,
   "metadata": {},
   "outputs": [],
   "source": [
    "import glob\n",
    "from os.path import dirname, join\n",
    "\n",
    "import numpy as np\n",
    "from scipy.interpolate import interp1d\n",
    "from scipy.spatial.transform import Rotation as R\n",
    "from scipy.spatial.transform import Slerp\n",
    "import matplotlib.pyplot as plt\n",
    "import open3d as o3d\n",
    "import numpy as np\n",
    "import copy\n",
    "from os import listdir\n",
    "import os\n",
    "import pandas as pd\n",
    "import matplotlib.pyplot as plt\n",
    "from datetime import datetime\n",
    "\n",
    "from winsound import Beep"
   ]
  },
  {
   "cell_type": "code",
   "execution_count": null,
   "metadata": {},
   "outputs": [],
   "source": [
    "def decompose_transformation_matrix(transformation):\n",
    "    translation = transformation[0:3, 3]\n",
    "    rotation = transformation[0:3, 0:3]\n",
    "    return translation, rotation"
   ]
  },
  {
   "cell_type": "code",
   "execution_count": null,
   "metadata": {},
   "outputs": [],
   "source": [
    "\n",
    "start_path = \"C:\\\\Users\\\\amoff\\\\Documents\\\\Meine Textdokumente\\\\Masterarbeit\\\\Daten\\\\rotated_and_translated\\\\100000000\\\\transformation_matrices_2\\\\1667908110_100000000_transformation.txt\"\n",
    "end_path = \"C:\\\\Users\\\\amoff\\\\Documents\\\\Meine Textdokumente\\\\Masterarbeit\\\\Daten\\\\rotated_and_translated\\\\100000000\\\\transformation_matrices_2\\\\1667908113_100000000_transformation.txt\"\n",
    "stm = np.loadtxt(start_path)\n",
    "strm, srm = decompose_transformation_matrix(stm)\n",
    "\n",
    "etm = np.loadtxt(end_path)\n",
    "etrm, erm = decompose_transformation_matrix(etm)\n",
    "\n",
    "r0 = R.from_euler(\"ZYX\", [90, -30, 0], degrees=True)\n",
    "sr = R.from_matrix([srm,erm])\n",
    "sr = R.concatenate([sr,r0])\n",
    "# er = R.from_quat()\n",
    "\n",
    "key_rots = sr\n",
    "\n",
    "key_times = [0,0.5, 1]"
   ]
  },
  {
   "cell_type": "code",
   "execution_count": null,
   "metadata": {},
   "outputs": [],
   "source": [
    "slerp = Slerp(key_times, key_rots)\n",
    "\n",
    "times = np.arange(0, 1, 0.1)\n",
    "interp_rots = slerp(times)"
   ]
  },
  {
   "cell_type": "code",
   "execution_count": null,
   "metadata": {},
   "outputs": [],
   "source": [
    "interp_rots.as_euler('xyz', degrees=True)"
   ]
  },
  {
   "cell_type": "code",
   "execution_count": null,
   "metadata": {},
   "outputs": [],
   "source": [
    "sr.as_euler('xyz', degrees=True)"
   ]
  },
  {
   "cell_type": "code",
   "execution_count": null,
   "metadata": {},
   "outputs": [],
   "source": [
    "def plot_rotated_axes(ax, r, name=None, offset=(0, 0, 0), scale=1):\n",
    "    colors = (\"#FF6666\", \"#005533\", \"#1199EE\")  # Colorblind-safe RGB\n",
    "    loc = np.array([offset, offset])\n",
    "    for i, (axis, c) in enumerate(zip((ax.xaxis, ax.yaxis, ax.zaxis), colors)):\n",
    "        axlabel = axis.axis_name\n",
    "        axis.set_label_text(axlabel)\n",
    "        axis.label.set_color(c)\n",
    "        axis.line.set_color(c)\n",
    "        axis.set_tick_params(colors=c)\n",
    "        line = np.zeros((2, 3))\n",
    "        line[1, i] = scale\n",
    "        line_rot = r.apply(line)\n",
    "        line_plot = line_rot + loc\n",
    "        ax.plot(line_plot[:, 0], line_plot[:, 1], line_plot[:, 2], c)\n",
    "        text_loc = line[1]*1.2\n",
    "        text_loc_rot = r.apply(text_loc)\n",
    "        text_plot = text_loc_rot + loc[0]\n",
    "        ax.text(*text_plot, axlabel.upper(), color=c, va=\"center\", ha=\"center\")\n",
    "    ax.text(*offset, name, color=\"k\", va=\"center\", ha=\"center\", bbox={\"fc\": \"w\", \"alpha\": 0.8, \"boxstyle\": \"circle\"})"
   ]
  },
  {
   "cell_type": "code",
   "execution_count": null,
   "metadata": {},
   "outputs": [],
   "source": [
    "r0 = R.identity()\n",
    "r1 = R.from_euler(\"ZYX\", [90, -30, 0], degrees=True)  # intrinsic\n",
    "r2 = R.from_euler(\"zyx\", [90, -30, 0], degrees=True)  # extrinsic\n",
    "\n",
    "ax = plt.figure().add_subplot(projection=\"3d\", proj_type=\"ortho\")\n",
    "plot_rotated_axes(ax, r0, name=\"r0\", offset=(0, 0, 0))\n",
    "plot_rotated_axes(ax, r1, name=\"r1\", offset=(3, 0, 0))\n",
    "plot_rotated_axes(ax, r2, name=\"r2\", offset=(6, 0, 0))\n",
    "_ = ax.annotate(\n",
    "    \"r0: Identity Rotation\\n\"\n",
    "    \"r1: Intrinsic Euler Rotation (ZYX)\\n\" \n",
    "    \"r2: Extrinsic Euler Rotation (zyx)\", xy=(0.6, 0.7), xycoords=\"axes fraction\", ha=\"left\" )\n",
    "ax.set(xlim=(-1.25, 7.25), ylim=(-1.25, 1.25), zlim=(-1.25, 1.25))\n",
    "ax.set(xticks=range(-1, 8), yticks=[-1, 0, 1], zticks=[-1, 0, 1])\n",
    "ax.set_aspect(\"equal\", adjustable=\"box\")\n",
    "ax.figure.set_size_inches(6, 5)\n",
    "plt.tight_layout()"
   ]
  },
  {
   "cell_type": "code",
   "execution_count": null,
   "metadata": {},
   "outputs": [],
   "source": [
    "ax = plt.figure().add_subplot(projection=\"3d\", proj_type=\"ortho\")\n",
    "for idx, rot in enumerate(interp_rots):\n",
    "    plot_rotated_axes(ax, rot, name=\"r0\", offset=(idx*3, 0, 0))\n",
    "\n",
    "ax.set_aspect(\"equal\", adjustable=\"box\")\n",
    "ax.figure.set_size_inches(30, 50)\n",
    "plt.tight_layout()"
   ]
  },
  {
   "cell_type": "code",
   "execution_count": null,
   "metadata": {},
   "outputs": [],
   "source": [
    "key_tsl = np.vstack([strm, etrm])\n",
    "key_times = [0, 1]\n",
    "linfit = interp1d(key_times, key_tsl, axis=0)\n",
    "\n",
    "\n",
    "arr = linfit(np.arange(0,1,0.1))"
   ]
  },
  {
   "cell_type": "code",
   "execution_count": null,
   "metadata": {},
   "outputs": [],
   "source": [
    "arr"
   ]
  },
  {
   "cell_type": "code",
   "execution_count": null,
   "metadata": {},
   "outputs": [],
   "source": [
    "arr[:,2]"
   ]
  },
  {
   "cell_type": "code",
   "execution_count": null,
   "metadata": {},
   "outputs": [],
   "source": [
    "fig = plt.figure()\n",
    "ax = fig.add_subplot(projection='3d')\n",
    "ax.scatter(arr[:,0],arr[:,1],arr[:,2])\n"
   ]
  },
  {
   "cell_type": "code",
   "execution_count": null,
   "metadata": {},
   "outputs": [],
   "source": [
    "arr[0]"
   ]
  },
  {
   "cell_type": "code",
   "execution_count": null,
   "metadata": {},
   "outputs": [],
   "source": [
    "x = np.identity(4)\n",
    "x[:,3] = arr[0]\n",
    "x"
   ]
  },
  {
   "cell_type": "code",
   "execution_count": null,
   "metadata": {},
   "outputs": [],
   "source": [
    "rot_matrix = r1.as_matrix()\n",
    "\n"
   ]
  },
  {
   "cell_type": "code",
   "execution_count": null,
   "metadata": {},
   "outputs": [],
   "source": [
    "def compose_transformation_matrix(rotation_matrix, translation_matrix):\n",
    "    exp_mat = np.append(rotation_matrix, np.expand_dims(translation_matrix, axis = 1), axis=1)\n",
    "    return np.append(exp_mat, np.array([[0,0,0,1]]), axis=0)"
   ]
  },
  {
   "cell_type": "code",
   "execution_count": null,
   "metadata": {},
   "outputs": [],
   "source": [
    "compose_transformation_matrix(rot_matrix, arr[0])"
   ]
  },
  {
   "cell_type": "code",
   "execution_count": null,
   "metadata": {},
   "outputs": [],
   "source": [
    "src_folder = \"C:\\\\Users\\\\amoff\\\\Documents\\\\Meine Textdokumente\\\\Masterarbeit\\\\Daten\\\\rotated_and_translated\\\\100000000\\\\transformation_matrices_2\\\\\"\n",
    "frames_to_interpolate = \"C:\\\\Users\\\\amoff\\\\Documents\\\\Meine Textdokumente\\\\Masterarbeit\\\\Daten\\\\converted\\\\pcd\\\\\"\n",
    "target_folder = \"C:\\\\Users\\\\amoff\\\\Documents\\\\Meine Textdokumente\\\\Masterarbeit\\\\Daten\\\\rotated_and_translated\\\\100000000\\\\interpolation\\\\\"\n",
    "stm = np.loadtxt(start_path)\n",
    "strm, srm = decompose_transformation_matrix(stm)\n",
    "\n",
    "filenames_to_interpolate = sorted(glob.glob(frames_to_interpolate + \"166*.pcd\"))\n",
    "filenames_fixed_points = sorted(glob.glob(src_folder + \"*.txt\"))"
   ]
  },
  {
   "cell_type": "code",
   "execution_count": null,
   "metadata": {},
   "outputs": [],
   "source": [
    "print(get_timestamps(filenames_fixed_points))\n",
    "print(get_timestamps(filenames_to_interpolate))\n",
    "print(len(get_timestamps(filenames_to_interpolate)))"
   ]
  },
  {
   "cell_type": "code",
   "execution_count": null,
   "metadata": {},
   "outputs": [],
   "source": [
    "def get_timestamps(filenames):\n",
    "    timestamps = []\n",
    "    for filename in filenames:\n",
    "        x = filename.split(\"\\\\\")[-1]\n",
    "        y = x.split(\"_\")\n",
    "        timestamps.append(int(y[0]+y[1]))\n",
    "    return timestamps\n",
    "\n",
    "\n",
    "fixed_rotations = []\n",
    "fixed_translations = []\n",
    "for f in filenames_fixed_points:\n",
    "    stm = np.loadtxt(f)\n",
    "    strm, srm = decompose_transformation_matrix(stm)\n",
    "    fixed_rotations.append(srm)\n",
    "    fixed_translations.append(strm)\n",
    "\n",
    "# print(fixed_rotations)\n",
    "\n",
    "key_rots = R.from_matrix(fixed_rotations)\n",
    "key_times = get_timestamps(filenames_fixed_points)\n",
    "print(key_times)\n",
    "slerp = Slerp(key_times, key_rots)\n",
    "\n",
    "times = get_timestamps(filenames_to_interpolate)\n",
    "interp_rots = slerp(times)\n",
    "\n",
    "key_tsl = np.vstack(fixed_translations)\n",
    "linfit = interp1d(key_times, key_tsl, axis=0)\n",
    "interp_trans = linfit(times)\n",
    "\n",
    "trajectories = []\n",
    "for idx, time in enumerate(times):\n",
    "    x, y, z = interp_trans[idx]\n",
    "    qx, qy, qz, qw = interp_rots[idx].as_quat()\n",
    "    trajectories.append(f\"{time/1000000000} {x} {y} {z} {qx} {qy} {qz} {qw}\")\n",
    "\n",
    "with open(target_folder + \"interpolated_poses_tum.txt\", 'w') as fp:\n",
    "    fp.write('\\n'.join(trajectories))"
   ]
  },
  {
   "cell_type": "code",
   "execution_count": null,
   "metadata": {},
   "outputs": [],
   "source": [
    "trajectories[0]"
   ]
  },
  {
   "cell_type": "code",
   "execution_count": null,
   "metadata": {},
   "outputs": [],
   "source": [
    "fig = plt.figure()\n",
    "ax = fig.add_subplot(projection='3d')\n",
    "for x,y,z in interp_trans:\n",
    "    ax.scatter(x,y,z)\n"
   ]
  },
  {
   "cell_type": "code",
   "execution_count": null,
   "metadata": {},
   "outputs": [],
   "source": [
    "ax = plt.figure().add_subplot(projection=\"3d\", proj_type=\"ortho\")\n",
    "for idx, rot in enumerate(interp_rots):\n",
    "    plot_rotated_axes(ax, rot, name=\"\", offset=(idx*3, 0, 0))\n",
    "\n",
    "# ax.set_aspect(adjustable=\"box\")\n",
    "ax.figure.set_size_inches(30, 50)\n",
    "plt.tight_layout()"
   ]
  },
  {
   "cell_type": "code",
   "execution_count": null,
   "metadata": {},
   "outputs": [],
   "source": [
    "arr = interp_trans\n",
    "fig = plt.figure()\n",
    "ax = fig.add_subplot(projection='3d')\n",
    "ax.scatter(arr[:,0],arr[:,1],arr[:,2])"
   ]
  },
  {
   "cell_type": "code",
   "execution_count": null,
   "metadata": {},
   "outputs": [],
   "source": [
    "interp_rots[1].as_quat()"
   ]
  },
  {
   "cell_type": "code",
   "execution_count": null,
   "metadata": {},
   "outputs": [],
   "source": [
    "x, y, z = interp_trans[0]"
   ]
  },
  {
   "cell_type": "code",
   "execution_count": null,
   "metadata": {},
   "outputs": [],
   "source": [
    "x"
   ]
  },
  {
   "cell_type": "markdown",
   "metadata": {},
   "source": [
    "#Convert kiss-icp tum poses to tum icp poses with corrected timestamps"
   ]
  },
  {
   "cell_type": "code",
   "execution_count": null,
   "metadata": {},
   "outputs": [],
   "source": [
    "input_tum_file = r\"C:\\Users\\amoff\\results\\2023-08-10_20-24-25\\pcd_poses_tum.txt\"\n",
    "output_tum_file = r\"C:\\Users\\amoff\\Documents\\Meine Textdokumente\\Masterarbeit\\Daten\\rotated_and_translated\\100000000\\interpolation\\2023-08-10_20-24-25_pcd_poses_tum.txt\"\n",
    "offset = 1667908110\n",
    "contains_drone_data_as_first_entry = True"
   ]
  },
  {
   "cell_type": "code",
   "execution_count": null,
   "metadata": {},
   "outputs": [],
   "source": [
    "with open(input_tum_file) as f:\n",
    "    lines = f.readlines()\n",
    "\n",
    "if contains_drone_data_as_first_entry:\n",
    "    lines = lines[1:]\n",
    "\n",
    "return_lines = []\n",
    "for l in lines:\n",
    "    entries = l.split(\" \")\n",
    "    index = float(entries[0]) - (1 if contains_drone_data_as_first_entry else 0)\n",
    "    entries[0] = str(index/10 + offset)\n",
    "    print(entries[0])\n",
    "    return_lines.append(\" \".join(entries))\n",
    "\n",
    "print(return_lines)\n",
    "\n",
    "with open(output_tum_file, 'w') as fp:\n",
    "    fp.write(''.join(return_lines))\n",
    "    print(f\"Wrote tum poses file to: {output_tum_file}\")"
   ]
  }
 ],
 "metadata": {
  "kernelspec": {
   "display_name": "vehlocalization",
   "language": "python",
   "name": "python3"
  },
  "language_info": {
   "codemirror_mode": {
    "name": "ipython",
    "version": 3
   },
   "file_extension": ".py",
   "mimetype": "text/x-python",
   "name": "python",
   "nbconvert_exporter": "python",
   "pygments_lexer": "ipython3",
   "version": "3.10.10"
  },
  "orig_nbformat": 4
 },
 "nbformat": 4,
 "nbformat_minor": 2
}
