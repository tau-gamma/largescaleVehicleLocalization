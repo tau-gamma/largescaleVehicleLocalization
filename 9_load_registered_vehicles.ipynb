{
 "cells": [
  {
   "cell_type": "code",
   "execution_count": null,
   "metadata": {},
   "outputs": [],
   "source": [
    "import open3d as o3d\n",
    "import numpy as np\n",
    "import copy\n",
    "from os import listdir\n",
    "import os"
   ]
  },
  {
   "cell_type": "code",
   "execution_count": null,
   "metadata": {},
   "outputs": [],
   "source": [
    "# source = o3d.io.read_point_cloud(\"C:\\\\Users\\\\amoff\\\\Documents\\\\Meine Textdokumente\\\\Masterarbeit\\\\Daten\\\\1667908110_000000000.pts\")\n",
    "base = \"1667908110_300000000\"\n",
    "point_cloud = o3d.io.read_point_cloud(\"C:\\\\Users\\\\amoff\\\\Documents\\\\Meine Textdokumente\\\\Masterarbeit\\\\\\Daten\\\\converted\\\\\" + base + \"_xyzi.pts\")\n",
    "# source = o3d.io.read_point_cloud(\"C:\\\\Users\\\\amoff\\\\Documents\\\\Meine Textdokumente\\\\Masterarbeit\\\\\\Daten\\\\1667908111_200000000_xyz.pts\")\n",
    "print(point_cloud)\n",
    "\n",
    "# arr = np.loadtxt(\"sample_data.csv\", delimiter=\",\", dtype=str)\n",
    "point_cloud.paint_uniform_color([1, 0.706, 0])\n",
    "o3d.visualization.draw_geometries([point_cloud,point_cloud])"
   ]
  },
  {
   "cell_type": "code",
   "execution_count": null,
   "metadata": {},
   "outputs": [],
   "source": [
    "pc = copy.deepcopy(point_cloud)\n",
    "pc = rotate_and_translate(base, pc)\n",
    "pc.paint_uniform_color([0, 0.651, 0.929])\n",
    "o3d.visualization.draw_geometries([point_cloud, pc, ])\n",
    "\n",
    "o3d.io.write_point_cloud(target_folder + base + \"_rat_xyzi.pcd\", point_cloud, write_ascii = True )"
   ]
  },
  {
   "cell_type": "code",
   "execution_count": null,
   "metadata": {},
   "outputs": [],
   "source": [
    "rotation_base = \"C:\\\\Users\\\\amoff\\\\Documents\\\\Meine Textdokumente\\\\Masterarbeit\\\\Data\\\\Data\\\\01_scene_01_omar\\\\01_lidar\\\\tf_matrix\\\\rotation\\\\\"\n",
    "rotation_suffix = \"_transformed_source_point_clouds.rotation.csv\"\n",
    "rotation_matrix = np.loadtxt(rotation_base + base + rotation_suffix, delimiter=\",\", dtype=str)\n",
    "\n",
    "point_cloud = copy.deepcopy(point_cloud)\n",
    "R = point_cloud.get_rotation_matrix_from_quaternion(rotation_matrix)\n",
    "point_cloud.rotate(R)\n",
    "point_cloud.paint_uniform_color([0, 0.651, 0.929])\n",
    "\n",
    "o3d.visualization.draw_geometries([point_cloud,point_cloud])\n",
    "\n"
   ]
  },
  {
   "cell_type": "code",
   "execution_count": null,
   "metadata": {},
   "outputs": [],
   "source": [
    "def rotate_and_translate(base, point_cloud):\n",
    "    rotation_base = \"C:\\\\Users\\\\amoff\\\\Documents\\\\Meine Textdokumente\\\\Masterarbeit\\\\Data\\\\Data\\\\01_scene_01_omar\\\\01_lidar\\\\tf_matrix\\\\rotation\\\\\"\n",
    "    rotation_suffix = \"_transformed_source_point_clouds.rotation.csv\"\n",
    "    filename = rotation_base + base + rotation_suffix\n",
    "    print(filename)\n",
    "    if not os.path.isfile(filename):\n",
    "        return None\n",
    "    rotation_matrix = np.loadtxt(filename, delimiter=\",\", dtype=str)\n",
    "    R = point_cloud.get_rotation_matrix_from_quaternion(rotation_matrix)\n",
    "    point_cloud.rotate(R)\n",
    "\n",
    "    translation_base = \"C:\\\\Users\\\\amoff\\\\Documents\\\\Meine Textdokumente\\\\Masterarbeit\\\\Data\\\\Data\\\\01_scene_01_omar\\\\01_lidar\\\\tf_matrix\\\\translation\\\\\"\n",
    "    translation_suffix = \"_transformed_source_point_clouds.translation.csv\"\n",
    "    tr_file_name = translation_base + base + translation_suffix\n",
    "    print(tr_file_name)\n",
    "    translation_matrix = np.loadtxt(tr_file_name, delimiter=\",\", dtype=str)\n",
    "    point_cloud.translate(translation_matrix)\n",
    "\n",
    "    return point_cloud\n",
    "    "
   ]
  },
  {
   "cell_type": "code",
   "execution_count": null,
   "metadata": {},
   "outputs": [],
   "source": [
    "point_cloud.get_rotation_matrix_from_axis_angle"
   ]
  },
  {
   "cell_type": "code",
   "execution_count": null,
   "metadata": {},
   "outputs": [],
   "source": [
    "translation_base = \"C:\\\\Users\\\\amoff\\\\Documents\\\\Meine Textdokumente\\\\Masterarbeit\\\\Data\\\\Data\\\\01_scene_01_omar\\\\01_lidar\\\\tf_matrix\\\\translation\\\\\"\n",
    "translation_suffix = \"_transformed_source_point_clouds.translation.csv\"\n",
    "translation_matrix = np.loadtxt(translation_base + base + translation_suffix, delimiter=\",\", dtype=str)\n",
    "\n",
    "\n",
    "\n",
    "point_cloud = copy.deepcopy(point_cloud)\n",
    "point_cloud.translate(translation_matrix)\n",
    "print(translation_matrix)\n",
    "point_cloud.paint_uniform_color([0, 0.651, 0.929])\n",
    "\n",
    "o3d.visualization.draw_geometries([point_cloud,point_cloud])"
   ]
  },
  {
   "cell_type": "code",
   "execution_count": null,
   "metadata": {},
   "outputs": [],
   "source": [
    "src_folder = \"C:\\\\Users\\\\amoff\\\\Documents\\\\Meine Textdokumente\\\\Masterarbeit\\\\Daten\\\\converted\\\\\"\n",
    "target_folder = \"C:\\\\Users\\\\amoff\\\\Documents\\\\Meine Textdokumente\\\\Masterarbeit\\\\Daten\\\\rotated_and_translated\\\\\"\n",
    "\n",
    "filenames = listdir(src_folder)\n",
    "\n",
    "i = 1\n",
    "for file in filenames:\n",
    "    print(str(i) + \" / \" + str(len(filenames)) + \" \" + src_folder+file)\n",
    "    point_cloud = o3d.io.read_point_cloud(src_folder+file)\n",
    "    base_name = file.split(\".\")[0]\n",
    "    base_name = base_name.replace(\"_xyzi\", \"\")\n",
    "    point_cloud = rotate_and_translate(base_name, point_cloud)\n",
    "    if point_cloud is not None:\n",
    "        o3d.io.write_point_cloud(target_folder + base_name + \"_rat_xyzi.pcd\", point_cloud, write_ascii = True )\n",
    "    else:\n",
    "        print(file + \" \" + \" has no transformation matrix\")\n",
    "    i += 1\n",
    "    \n",
    "    # o3d.visualization.draw_geometries([point_cloud])\n"
   ]
  }
 ],
 "metadata": {
  "kernelspec": {
   "display_name": "vehlocalization",
   "language": "python",
   "name": "python3"
  },
  "language_info": {
   "codemirror_mode": {
    "name": "ipython",
    "version": 3
   },
   "file_extension": ".py",
   "mimetype": "text/x-python",
   "name": "python",
   "nbconvert_exporter": "python",
   "pygments_lexer": "ipython3",
   "version": "3.10.10"
  },
  "orig_nbformat": 4
 },
 "nbformat": 4,
 "nbformat_minor": 2
}
