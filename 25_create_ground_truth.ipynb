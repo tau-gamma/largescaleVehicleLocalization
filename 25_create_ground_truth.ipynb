{
 "cells": [
  {
   "cell_type": "code",
   "execution_count": null,
   "metadata": {},
   "outputs": [],
   "source": [
    "%load_ext autoreload\n",
    "%autoreload 2\n",
    "\n",
    "import open3d as o3d\n",
    "import numpy as np\n",
    "import copy\n",
    "from os import listdir\n",
    "import os\n",
    "import pandas as pd\n",
    "import matplotlib.pyplot as plt\n",
    "from datetime import datetime\n",
    "import numpy as np\n",
    "from winsound import Beep\n",
    "import time\n",
    "import glob\n",
    "\n",
    "import alexutils as alx\n",
    "\n"
   ]
  },
  {
   "cell_type": "code",
   "execution_count": null,
   "metadata": {},
   "outputs": [],
   "source": []
  },
  {
   "cell_type": "code",
   "execution_count": null,
   "metadata": {},
   "outputs": [],
   "source": [
    "\n",
    "\n",
    "src = r\"C:\\Users\\amoff\\Documents\\Meine Textdokumente\\Masterarbeit\\different_slams\\mulls_results\\5_binary\\result\\pose_b_lo_xxx_id.txt\"\n",
    "arr = get_transform_matrices_from_kitti(src)[1:]\n",
    "\n",
    "mat = np.loadtxt(r\"C:\\Users\\amoff\\Documents\\Meine Textdokumente\\Masterarbeit\\Blender\\110_gt.txt\")\n",
    "mat[0,3] = mat[0,3] - 0.5\n",
    "\n",
    "new_arr = [np.matmul(a, mat).flatten()[0:12] for a in arr]\n"
   ]
  },
  {
   "cell_type": "code",
   "execution_count": null,
   "metadata": {},
   "outputs": [],
   "source": [
    "combined_transformations = [' '.join([str(round(x, 5)) for x in t.tolist()])+ \"\\n\" for t in new_arr]\n",
    "\n",
    "with open(r\"C:\\Users\\amoff\\Documents\\Meine Textdokumente\\Masterarbeit\\Daten\\new_try\\ground_truth_from_mulls_kitti.txt\", 'w') as fp:\n",
    "    fp.write(''.join(combined_transformations))"
   ]
  },
  {
   "cell_type": "markdown",
   "metadata": {},
   "source": [
    "Compare MULLS with KISS ICP"
   ]
  },
  {
   "cell_type": "code",
   "execution_count": null,
   "metadata": {},
   "outputs": [],
   "source": [
    "\n",
    "src = r\"C:\\Users\\amoff\\results\\2023-09-26_12-32-48\\pcd_poses_kitti.txt\"\n",
    "pcd_folder = r\"C:\\Users\\amoff\\Documents\\Meine Textdokumente\\Masterarbeit\\more_frames\\pcd\\\\\"\n",
    "pcd_target_merged_file = r\"C:\\Users\\amoff\\Documents\\Meine Textdokumente\\Masterarbeit\\more_frames\\merged\\merged_vehicle_more_frames_kiss_icp3.pcd\"\n",
    "\n",
    "transform_matrices = alx.get_transform_matrices_from_kitti(src)\n",
    "print(f\"Number of transform matrices {len(transform_matrices)}\")\n",
    "\n",
    "filenames = [x.split(\"\\\\\")[-1] for x in glob.glob(pcd_folder + \"*.pcd\")]\n",
    "print(f\"Number of pcd files: {len(filenames)}\")\n",
    "pcl = o3d.geometry.PointCloud() #Empty point cloud\n",
    "\n",
    "for idx, file in enumerate(filenames):\n",
    "    point_cloud = o3d.io.read_point_cloud(pcd_folder + file)\n",
    "    point_cloud = alx.remove_ground(point_cloud, 0.5)\n",
    "    point_cloud.transform(transform_matrices[idx])\n",
    "    pcl += point_cloud\n",
    "    print(str(idx))\n",
    "\n",
    "# print(f\"Number of points with ground {len(pcl.points)}\")\n",
    "no_ground_pcd = pcl\n",
    "print(f\"Number of points without ground {len(no_ground_pcd.points)}\")\n",
    "no_ground_pcd = no_ground_pcd.voxel_down_sample(voxel_size = 0.1)\n",
    "print(f\"Number of points with downsampling {len(no_ground_pcd.points)}\")\n",
    "alx.draw_point_clouds([no_ground_pcd])\n",
    "o3d.io.write_point_cloud(pcd_target_merged_file, no_ground_pcd, write_ascii = False)"
   ]
  },
  {
   "cell_type": "code",
   "execution_count": null,
   "metadata": {},
   "outputs": [],
   "source": [
    "def merge_pcds(transform_matrices, pcd_folder, pcd_target_merged_file):\n",
    "    filenames = glob.glob(pcd_folder + \"*.pcd\")\n",
    "    print(filenames)\n",
    "    pcl = o3d.geometry.PointCloud() #Empty point cloud\n",
    "\n",
    "    for idx, file in enumerate(filenames):\n",
    "        point_cloud = o3d.io.read_point_cloud(file)\n",
    "        point_cloud = alx.remove_ground(point_cloud, 0.5)\n",
    "        point_cloud.transform(transform_matrices[idx])\n",
    "        pcl += point_cloud\n",
    "        print(str(idx))\n",
    "\n",
    "    \n",
    "    no_ground_pcd = pcl\n",
    "    print(f\"Number of points without ground {len(no_ground_pcd.points)}\")\n",
    "    no_ground_pcd = no_ground_pcd.voxel_down_sample(voxel_size = 0.5)\n",
    "    print(f\"Number of points with downsampling {len(no_ground_pcd.points)}\")\n",
    "    o3d.io.write_point_cloud(pcd_target_merged_file, no_ground_pcd, write_ascii = False)"
   ]
  },
  {
   "cell_type": "code",
   "execution_count": null,
   "metadata": {},
   "outputs": [],
   "source": [
    "def apply_transformation_merge_and_save(transform_matrices, second_transformation, pcd_folder, target_folder):\n",
    "    filenames = [x.split(\"\\\\\")[-1] for x in glob.glob(pcd_folder + \"*.pcd\")]\n",
    "    pcl = o3d.geometry.PointCloud()\n",
    "\n",
    "    for idx, file in enumerate(filenames):\n",
    "        point_cloud = o3d.io.read_point_cloud(pcd_folder + file)\n",
    "        # point_cloud = alx.remove_ground(point_cloud, 0.5)\n",
    "        point_cloud.transform(transform_matrices[idx])\n",
    "        pcl += point_cloud\n",
    "        print(str(idx))\n",
    "\n",
    "    pcl.transform(second_transformation)\n",
    "    no_ground_pcd = pcl.voxel_down_sample(voxel_size = 0.1)\n",
    "    print(\"Write merged point cloud to \" + target_folder + file)\n",
    "    o3d.io.write_point_cloud(target_folder + file, no_ground_pcd, write_ascii = False)\n",
    "\n",
    "\n"
   ]
  },
  {
   "cell_type": "code",
   "execution_count": null,
   "metadata": {},
   "outputs": [],
   "source": [
    "def apply_transformation_and_save(transform_matrices, second_transformation, pcd_folder, target_folder):\n",
    "    filenames = [x.split(\"\\\\\")[-1] for x in glob.glob(pcd_folder + \"*.pcd\")]\n",
    "\n",
    "    for idx, file in enumerate(filenames):\n",
    "        point_cloud = o3d.io.read_point_cloud(pcd_folder + file)\n",
    "        point_cloud = alx.remove_ground(point_cloud, 0.5)\n",
    "        point_cloud.transform(transform_matrices[idx])\n",
    "        point_cloud.transform(second_transformation)\n",
    "        # no_ground_pcd = point_cloud.voxel_down_sample(voxel_size = 0.1)\n",
    "        no_ground_pcd = point_cloud\n",
    "        o3d.io.write_point_cloud(target_folder + file, no_ground_pcd, write_ascii = False)\n",
    "        print(str(idx))\n",
    "\n",
    "    "
   ]
  },
  {
   "cell_type": "code",
   "execution_count": null,
   "metadata": {},
   "outputs": [],
   "source": [
    "src = r\"C:\\Users\\amoff\\results\\2023-09-26_12-32-48\\pcd_poses_kitti.txt\"\n",
    "pcd_folder = r\"C:\\Users\\amoff\\Documents\\Meine Textdokumente\\Masterarbeit\\more_frames\\pcd\\\\\"\n",
    "pcd_target_merged_file = r\"C:\\Users\\amoff\\Documents\\Meine Textdokumente\\Masterarbeit\\more_frames\\merged\\merged_vehicle_more_frames_kiss_icp3.pcd\"\n",
    "\n",
    "src = r\"C:\\Users\\amoff\\results\\2023-09-22_02-26-55\\pcd_without_nan_renamed_binary_poses_kitti.txt\"\n",
    "pcd_folder = r\"C:\\Users\\amoff\\Documents\\Meine Textdokumente\\Masterarbeit\\Daten\\new_try\\pcd_without_nan\\\\\"\n",
    "pcd_target_merged_file = r\"C:\\Users\\amoff\\Documents\\Meine Textdokumente\\Masterarbeit\\Daten\\merged_files\\merged_vehicle_frames_kiss_icp_with_ground.pcd\"\n",
    "\n",
    "transform_matrices = alx.get_transform_matrices_from_kitti(src)\n",
    "merge_pcds(transform_matrices, pcd_folder, pcd_target_merged_file)"
   ]
  },
  {
   "cell_type": "code",
   "execution_count": null,
   "metadata": {},
   "outputs": [],
   "source": [
    "src = r\"C:\\Users\\amoff\\results\\2023-09-22_02-26-55\\pcd_without_nan_renamed_binary_poses_kitti.txt\"\n",
    "second_transformation = np.loadtxt(r\"C:\\Users\\amoff\\Documents\\Meine Textdokumente\\Masterarbeit\\Daten\\merged_files\\merged_vehicle_frames_kiss_icp_transformation.txt\")\n",
    "\n",
    "pcd_folder = r\"C:\\Users\\amoff\\Documents\\Meine Textdokumente\\Masterarbeit\\Daten\\new_try\\pcd_without_nan\\\\\"\n",
    "pcd_target_merged_file = r\"C:\\Users\\amoff\\Documents\\Meine Textdokumente\\Masterarbeit\\Daten\\new_try\\pcd_registered_to_dirty2_no_downsample\\\\\"\n",
    "\n",
    "\n",
    "transform_matrices = alx.get_transform_matrices_from_kitti(src)\n",
    "apply_transformation_and_save(transform_matrices, second_transformation, pcd_folder, pcd_target_merged_file)"
   ]
  },
  {
   "cell_type": "code",
   "execution_count": null,
   "metadata": {},
   "outputs": [],
   "source": [
    "src = r\"C:\\Users\\amoff\\results\\2023-09-22_02-26-55\\pcd_without_nan_renamed_binary_poses_kitti.txt\"\n",
    "pcd_folder = r\"C:\\Users\\amoff\\Documents\\Meine Textdokumente\\Masterarbeit\\Daten\\new_try\\pcd_without_nan\\\\\"\n",
    "pcd_target_merged_file = r\"C:\\Users\\amoff\\Documents\\Meine Textdokumente\\Masterarbeit\\Daten\\new_try\\registered_pcds\\\\\"\n",
    "\n",
    "second_transformation = np.loadtxt(r\"C:\\Users\\amoff\\Documents\\Meine Textdokumente\\Masterarbeit\\Daten\\merged_files\\merged_vehicle_frames_kiss_icp_transformation.txt\")\n",
    "\n",
    "transform_matrices = alx.get_transform_matrices_from_kitti(src)\n",
    "apply_transformation_merge_and_save(transform_matrices, second_transformation, pcd_folder, pcd_target_merged_file)"
   ]
  },
  {
   "cell_type": "markdown",
   "metadata": {},
   "source": [
    "Normalize the drone data"
   ]
  },
  {
   "cell_type": "code",
   "execution_count": null,
   "metadata": {},
   "outputs": [],
   "source": [
    "source = o3d.io.read_point_cloud(r\"C:\\Users\\amoff\\Documents\\Meine Textdokumente\\Masterarbeit\\Daten\\new_try\\registered_pcds\\merged_vehicle_frames_kiss_icp_no_ground_registered.pcd\")\n",
    "target = o3d.io.read_point_cloud(r\"C:\\Users\\amoff\\Documents\\Meine Textdokumente\\Masterarbeit\\Daten\\new_try\\registered_pcds\\intersection_drone_no_ground_registered.pcd\")\n",
    "\n",
    "\n",
    "\n",
    "source , target = alx.pc_norm(source, target)\n",
    "alx.draw_point_clouds([source, target])\n",
    "\n",
    "o3d.io.write_point_cloud(r\"C:\\Users\\amoff\\Documents\\Meine Textdokumente\\Masterarbeit\\Daten\\new_try\\registered_pcds\\merged_vehicle_frames_kiss_icp_no_ground_registered_normalized.pcd\", source)\n",
    "o3d.io.write_point_cloud(r\"C:\\Users\\amoff\\Documents\\Meine Textdokumente\\Masterarbeit\\Daten\\new_try\\registered_pcds\\intersection_drone_no_ground_registered_normalized.pcd\", target)\n"
   ]
  },
  {
   "cell_type": "code",
   "execution_count": null,
   "metadata": {},
   "outputs": [],
   "source": []
  }
 ],
 "metadata": {
  "kernelspec": {
   "display_name": "vehlocalization",
   "language": "python",
   "name": "python3"
  },
  "language_info": {
   "codemirror_mode": {
    "name": "ipython",
    "version": 3
   },
   "file_extension": ".py",
   "mimetype": "text/x-python",
   "name": "python",
   "nbconvert_exporter": "python",
   "pygments_lexer": "ipython3",
   "version": "3.10.10"
  },
  "orig_nbformat": 4
 },
 "nbformat": 4,
 "nbformat_minor": 2
}
