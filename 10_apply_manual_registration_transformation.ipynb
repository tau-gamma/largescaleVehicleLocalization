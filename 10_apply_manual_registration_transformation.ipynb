{
 "cells": [
  {
   "cell_type": "code",
   "execution_count": null,
   "metadata": {},
   "outputs": [],
   "source": [
    "import open3d as o3d\n",
    "import numpy as np\n",
    "import copy\n",
    "from os import listdir\n",
    "import os"
   ]
  },
  {
   "cell_type": "code",
   "execution_count": null,
   "metadata": {},
   "outputs": [],
   "source": [
    "def transform(base, point_cloud):\n",
    "    transformation_base = \"C:\\\\Users\\\\amoff\\\\Documents\\\\Meine Textdokumente\\\\Masterarbeit\\\\Daten\\\\rotated_and_translated\\\\100000000\\\\transformation_matrices_2\\\\\"\n",
    "    transformation_suffix = \"_transformation.txt\"\n",
    "    filename = transformation_base + base + transformation_suffix\n",
    "    print(filename)\n",
    "    if not os.path.isfile(filename):\n",
    "        return None\n",
    "    transformation_matrix = np.loadtxt(filename, delimiter=\" \", dtype=str)\n",
    "    point_cloud.transform(transformation_matrix)\n",
    "\n",
    "    return point_cloud"
   ]
  },
  {
   "cell_type": "code",
   "execution_count": null,
   "metadata": {},
   "outputs": [],
   "source": [
    "src_folder = \"C:\\\\Users\\\\amoff\\\\Documents\\\\Meine Textdokumente\\\\Masterarbeit\\\\Daten\\\\rotated_and_translated\\\\100000000\\\\selected_frames\\\\\"\n",
    "target_folder = \"C:\\\\Users\\\\amoff\\\\Documents\\\\Meine Textdokumente\\\\Masterarbeit\\\\Daten\\\\rotated_and_translated\\\\100000000\\\\transformed_frames\\\\\"\n",
    "\n",
    "filenames = listdir(src_folder)\n",
    "\n",
    "i = 1\n",
    "for file in filenames:\n",
    "    print(str(i) + \" / \" + str(len(filenames)) + \" \" + src_folder+file)\n",
    "    point_cloud = o3d.io.read_point_cloud(src_folder+file)\n",
    "    f = file.split(\"_\")\n",
    "    base_name = f[0] + \"_\" + f[1]\n",
    "    \n",
    "    point_cloud = transform(base_name, point_cloud)\n",
    "    point_cloud.translate((0,-7.396470546722412,0))\n",
    "    if point_cloud is not None:\n",
    "        o3d.io.write_point_cloud(target_folder + base_name + \"_rat_xyzi.pcd\", point_cloud, write_ascii = True )\n",
    "    else:\n",
    "        print(file + \" \" + \" has no transformation matrix\")\n",
    "    i += 1"
   ]
  }
 ],
 "metadata": {
  "kernelspec": {
   "display_name": "vehlocalization",
   "language": "python",
   "name": "python3"
  },
  "language_info": {
   "codemirror_mode": {
    "name": "ipython",
    "version": 3
   },
   "file_extension": ".py",
   "mimetype": "text/x-python",
   "name": "python",
   "nbconvert_exporter": "python",
   "pygments_lexer": "ipython3",
   "version": "3.10.10"
  },
  "orig_nbformat": 4
 },
 "nbformat": 4,
 "nbformat_minor": 2
}
